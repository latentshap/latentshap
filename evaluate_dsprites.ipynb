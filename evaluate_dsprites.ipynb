{
 "cells": [
  {
   "cell_type": "markdown",
   "metadata": {
    "id": "TgbO4bMjy8eO"
   },
   "source": [
    "## Import:"
   ]
  },
  {
   "cell_type": "code",
   "execution_count": 1,
   "metadata": {
    "id": "nDwtTQ2HzEHU"
   },
   "outputs": [],
   "source": [
    "from __future__ import absolute_import\n",
    "from __future__ import division\n",
    "from __future__ import print_function\n",
    "from matplotlib import pyplot as plt\n",
    "import numpy as np\n",
    "import pandas as pd\n",
    "import seaborn as sns"
   ]
  },
  {
   "cell_type": "code",
   "execution_count": 2,
   "metadata": {
    "colab": {
     "base_uri": "https://localhost:8080/"
    },
    "id": "IiqmS3Iuv68p",
    "outputId": "eb128114-836e-4b94-88ef-0dccffc295d9"
   },
   "outputs": [],
   "source": [
    "# !pip install shap"
   ]
  },
  {
   "cell_type": "code",
   "execution_count": 3,
   "metadata": {
    "colab": {
     "base_uri": "https://localhost:8080/"
    },
    "id": "XbPmextyO9sx",
    "outputId": "0bbc38e0-c9eb-4e7f-b028-67e66f293e28"
   },
   "outputs": [
    {
     "name": "stderr",
     "output_type": "stream",
     "text": [
      "C:\\Users\\Administrator\\AppData\\Local\\Programs\\Python\\Python310\\lib\\site-packages\\tqdm\\auto.py:22: TqdmWarning: IProgress not found. Please update jupyter and ipywidgets. See https://ipywidgets.readthedocs.io/en/stable/user_install.html\n",
      "  from .autonotebook import tqdm as notebook_tqdm\n"
     ]
    }
   ],
   "source": [
    "np.random.seed(42)\n",
    "from LatentSHAP_image_classification import LatentExplainerImgs\n",
    "\n"
   ]
  },
  {
   "cell_type": "markdown",
   "metadata": {
    "id": "HKv8t4BDzA4c"
   },
   "source": [
    "## Load images:"
   ]
  },
  {
   "cell_type": "code",
   "execution_count": 4,
   "metadata": {
    "colab": {
     "base_uri": "https://localhost:8080/"
    },
    "id": "7Fl3HcdcE7DW",
    "outputId": "b3e6e01c-cd73-4012-b7e7-f1433fc322ce"
   },
   "outputs": [
    {
     "name": "stdout",
     "output_type": "stream",
     "text": [
      "Keys in the dataset: KeysView(<numpy.lib.npyio.NpzFile object at 0x00000232CB8FA800>)\n"
     ]
    }
   ],
   "source": [
    "# Load dataset\n",
    "dsprites_numpy_path = \"dsprites-dataset/dsprites_ndarray_co1sh3sc6or40x32y32_64x64.npz\"\n",
    "dataset_zip = np.load(dsprites_numpy_path, allow_pickle=True, encoding = 'latin1')\n",
    "\n",
    "print('Keys in the dataset:', dataset_zip.keys())\n",
    "imgs = dataset_zip['imgs']\n",
    "latents_values = dataset_zip['latents_values']\n",
    "latents_classes = dataset_zip['latents_classes']\n",
    "metadata = dataset_zip['metadata'][()]\n",
    "\n",
    "# print('Metadata: \\n', metadata)\n",
    "# Define number of values per latents and functions to convert to indices\n",
    "latents_sizes = metadata['latents_sizes']\n",
    "latents_bases = np.concatenate((latents_sizes[::-1].cumprod()[::-1][1:],\n",
    "                                np.array([1,])))\n"
   ]
  },
  {
   "cell_type": "markdown",
   "metadata": {},
   "source": [
    "## Custom generator for batching data"
   ]
  },
  {
   "cell_type": "code",
   "execution_count": 5,
   "metadata": {},
   "outputs": [],
   "source": [
    "def data_generator(images, latents_values, batch_size=32):\n",
    "    num_samples = len(images)\n",
    "    while True:\n",
    "        indices = np.random.permutation(num_samples)\n",
    "        for i in range(0, num_samples, batch_size):\n",
    "            batch_indices = indices[i:i + batch_size]\n",
    "            batch_images = images[batch_indices]\n",
    "            batch_images = batch_images.reshape(batch_images.shape[0], 64, 64, 1)\n",
    "\n",
    "\n",
    "            batch_latents_values = latents_values[batch_indices]\n",
    "            batch_latents_values = batch_latents_values.astype('float32')\n",
    "            # Split the latent factors for individual losses\n",
    "            batch_latents_color = batch_latents_values[:, 0]\n",
    "            batch_latents_shape = batch_latents_values[:, 1]\n",
    "            batch_latents_scale = batch_latents_values[:, 2]\n",
    "            batch_latents_orientation = batch_latents_values[:, 3]\n",
    "            batch_latents_x_position = batch_latents_values[:, 4]\n",
    "            batch_latents_y_position = batch_latents_values[:, 5]\n",
    "            yield batch_images, [batch_latents_color, batch_latents_shape, batch_latents_scale, batch_latents_orientation, batch_latents_x_position, batch_latents_y_position]"
   ]
  },
  {
   "cell_type": "markdown",
   "metadata": {},
   "source": [
    "## Split to train/test"
   ]
  },
  {
   "cell_type": "code",
   "execution_count": 7,
   "metadata": {},
   "outputs": [],
   "source": [
    "from sklearn.model_selection import train_test_split\n",
    "train_images, test_images, train_latents, test_latents = train_test_split(imgs, latents_values, test_size=0.01, random_state=17)\n",
    "del imgs #remove imgs to save RAM \n",
    "\n",
    "test_color = test_latents[:, 0]\n",
    "test_shape = test_latents[:, 1]\n",
    "test_scale = test_latents[:, 2]\n",
    "test_orientation = test_latents[:, 3]\n",
    "test_x_position = test_latents[:, 4]\n",
    "test_y_position = test_latents[:, 5]\n",
    "test_images = test_images.reshape(test_images.shape[0], 64, 64, 1)"
   ]
  },
  {
   "cell_type": "markdown",
   "metadata": {},
   "source": [
    "## Define tensorflow model "
   ]
  },
  {
   "cell_type": "code",
   "execution_count": 8,
   "metadata": {
    "id": "O0wu5-uOK3tJ"
   },
   "outputs": [],
   "source": [
    "import tensorflow as tf\n",
    "from tensorflow.keras import layers, models, losses, utils\n",
    "from sklearn.model_selection import train_test_split\n",
    "\n",
    "# Define custom losses for each latent factor\n",
    "def shape_loss(y_true, y_pred):\n",
    "    # correct one based index\n",
    "    y_true_zero_based = y_true-1\n",
    "    return losses.sparse_categorical_crossentropy(y_true_zero_based, y_pred)\n",
    "\n",
    "def latent_factors_model():\n",
    "    inputs = layers.Input(shape=(64, 64, 1))\n",
    "\n",
    "    # Your CNN model architecture\n",
    "    # Example:\n",
    "    x = layers.Conv2D(32, kernel_size=(3, 3), activation='relu')(inputs)\n",
    "    x = layers.MaxPooling2D(pool_size=(2, 2))(x)\n",
    "\n",
    "    x = layers.Conv2D(64, kernel_size=(3, 3), activation='relu')(x)\n",
    "    x = layers.MaxPooling2D(pool_size=(2, 2))(x)\n",
    "\n",
    "    x = layers.Conv2D(128, kernel_size=(3, 3), activation='relu')(x)\n",
    "    x = layers.MaxPooling2D(pool_size=(2, 2))(x)\n",
    "\n",
    "    x = layers.Conv2D(256, kernel_size=(3, 3), activation='relu')(x)\n",
    "    x = layers.MaxPooling2D(pool_size=(2, 2))(x)\n",
    "\n",
    "\n",
    "    x = layers.Flatten()(x)\n",
    "    x = layers.Dense(256, activation='relu')(x)\n",
    "\n",
    "    x = layers.Dense(128, activation='relu')(x)\n",
    "\n",
    "    x = layers.Dense(64, activation='relu')(x)\n",
    "\n",
    "    x = layers.Dense(32, activation='relu')(x)\n",
    "\n",
    "    # Output layers for each latent factor\n",
    "    color = layers.Dense(1, activation='sigmoid')(x)\n",
    "    shape = layers.Dense(3, activation='softmax')(x)\n",
    "    scale = layers.Dense(1, activation='linear')(x)\n",
    "    x_position = layers.Dense(1, activation='linear')(x)\n",
    "    y_position = layers.Dense(1, activation='linear')(x)\n",
    "    orientation = layers.Dense(1, activation='linear')(x)\n",
    "\n",
    "    # Combine all outputs into a single list\n",
    "    outputs = [color, shape, scale, orientation, x_position, y_position]\n",
    "\n",
    "    model = tf.keras.Model(inputs=inputs, outputs=outputs)\n",
    "    return model"
   ]
  },
  {
   "cell_type": "markdown",
   "metadata": {},
   "source": [
    "## Load pretrained weights"
   ]
  },
  {
   "cell_type": "code",
   "execution_count": 9,
   "metadata": {
    "id": "69wryxqaKM-k"
   },
   "outputs": [],
   "source": [
    "model = latent_factors_model()\n",
    "model_saved_path = \"dSprites_predict_latents.keras\"\n",
    "model.load_weights(model_saved_path)"
   ]
  },
  {
   "cell_type": "markdown",
   "metadata": {},
   "source": [
    "## Setup classifier\n"
   ]
  },
  {
   "cell_type": "code",
   "execution_count": 11,
   "metadata": {
    "id": "V-iEZgxBMa9u"
   },
   "outputs": [],
   "source": [
    "#define prediction functions:\n",
    "def model_to_be_explained(x): #rule-based classifier\n",
    "    assert len(x.shape) in [3, 4] # assert if len(x.shape) is not 3/4 - the axis indices will change\n",
    "    res = x.sum(axis=2)[:,:32] #summerize for each row, then take the 32 upper rows (the upper segment)\n",
    "    res = res.sum(axis=1)>0 #set True for images with at least one pixel on the upper segment, False to the others\n",
    "    return res * 1 #cast True/False to numeric \n",
    "\n",
    "\n",
    "def model_prediction_to_latent(raw_preds): #organize the model outputs\n",
    "    latents = np.zeros((raw_preds[0].shape[0], 6))\n",
    "    latents[:,0] = raw_preds[0][:,0]\n",
    "    latents[:,1] = raw_preds[1].argmax(axis=1)\n",
    "    latents[:,2] = raw_preds[2][:,0]\n",
    "    latents[:,3] = raw_preds[3][:,0]\n",
    "    latents[:,4] = raw_preds[4][:,0]\n",
    "    latents[:,5] = raw_preds[5][:,0]\n",
    "    return latents\n",
    "\n",
    "# setup transformation function - use the model and organize the predictions\n",
    "def transformation(z):\n",
    "    raw_preds = model.predict(z, verbose=0)\n",
    "    latents = model_prediction_to_latent(raw_preds)\n",
    "    return latents"
   ]
  },
  {
   "cell_type": "markdown",
   "metadata": {},
   "source": [
    "## Prepare data for explainability:"
   ]
  },
  {
   "cell_type": "code",
   "execution_count": 12,
   "metadata": {},
   "outputs": [],
   "source": [
    "# #choose what images to explain and background size\n",
    "img_to_explain = test_images[:10, :]\n",
    "bg_data = train_images[:1000, :]\n",
    "#choose latent surrogate model type\n",
    "from sklearn.tree import DecisionTreeClassifier\n",
    "proximity_model = DecisionTreeClassifier()"
   ]
  },
  {
   "cell_type": "markdown",
   "metadata": {},
   "source": [
    "## Produce explanation for the image classifier:"
   ]
  },
  {
   "cell_type": "code",
   "execution_count": 13,
   "metadata": {
    "colab": {
     "base_uri": "https://localhost:8080/",
     "height": 101,
     "referenced_widgets": [
      "5478b38c30fc4edcbc31a414861f2073",
      "367f7331564b49918d877a0f9dccf483",
      "54177b7283fe46f7a3ccfe71c2491192",
      "3897ec8eef284402a3df216a67f804e6",
      "604ba04c62094c30910521fbc0cb9bc7",
      "6f482bec248f43579c51eeee0f295229",
      "3a16cd8b7768484ca62b2e20151c3596",
      "0e18297a50d84e748881ffd7f01d5256",
      "2ef7874c0bda4ebc8560c45aa55fff6e",
      "987056d254c042b384b3ed245798808c",
      "28684a2f0a8d4f8193628a822d2c01e9"
     ]
    },
    "id": "OfpewX1iwCVC",
    "outputId": "1b297677-8114-49ef-aa6c-872f2b01d0da"
   },
   "outputs": [
    {
     "name": "stderr",
     "output_type": "stream",
     "text": [
      "Using 1000 background data samples could cause slower run times. Consider using shap.sample(data, K) or shap.kmeans(data, K) to summarize the background as K samples.\n",
      "100%|██████████████████████████████████████████████████████████████████████████████████| 10/10 [00:02<00:00,  3.91it/s]\n"
     ]
    }
   ],
   "source": [
    "explainer = LatentExplainerImgs(model=model_to_be_explained, transformation=transformation,\n",
    "                                background_data=bg_data, proximity_model=proximity_model)\n",
    "\n",
    "shap_values_proposed_method = explainer.latent_shap_values(img_to_explain)\n",
    "latent_feature_names = metadata[\"latents_names\"]"
   ]
  },
  {
   "cell_type": "markdown",
   "metadata": {},
   "source": [
    "## Global feature importance:"
   ]
  },
  {
   "cell_type": "code",
   "execution_count": 15,
   "metadata": {},
   "outputs": [],
   "source": [
    "#use shap's vizualization\n",
    "import shap\n",
    "from shap._explanation import Explanation\n"
   ]
  },
  {
   "cell_type": "code",
   "execution_count": 23,
   "metadata": {},
   "outputs": [],
   "source": [
    "base_val = np.array([explainer.expected_value])"
   ]
  },
  {
   "cell_type": "code",
   "execution_count": 24,
   "metadata": {
    "colab": {
     "background_save": true
    },
    "id": "7OAU1lDJUdO7"
   },
   "outputs": [
    {
     "data": {
      "image/png": "[encoded data removed]",
      "text/plain": [
       "<Figure size 800x450 with 1 Axes>"
      ]
     },
     "metadata": {},
     "output_type": "display_data"
    }
   ],
   "source": [
    "explanation_object_global = Explanation(values=shap_values_proposed_method[0],\n",
    "                        base_values=base_val,\n",
    "                        data = transformation(img_to_explain),\n",
    "                        feature_names = latent_feature_names)\n",
    "global_f = plt.gcf()\n",
    "shap.plots.bar(explanation_object_global, show=False)\n"
   ]
  },
  {
   "cell_type": "code",
   "execution_count": 25,
   "metadata": {
    "colab": {
     "background_save": true
    },
    "id": "6je4xhxnxFUI"
   },
   "outputs": [],
   "source": [
    "# name = f'global eplanation dsprite.pdf'\n",
    "# # name = 'local explanation for first sample with all 39 features (bg size 150) knn'\n",
    "# global_f.savefig(name, transparent=True, bbox_inches='tight', pad_inches=0) #'out.svg'"
   ]
  },
  {
   "cell_type": "markdown",
   "metadata": {
    "id": "Mf_4V6ov0lgy"
   },
   "source": [
    "## Visualize positive and negative examples:"
   ]
  },
  {
   "cell_type": "code",
   "execution_count": 26,
   "metadata": {},
   "outputs": [],
   "source": [
    "pred_10_test = model_to_be_explained(img_to_explain[:10])\n",
    "ind_of_positive = np.argwhere(pred_10_test==1)[1,0]\n",
    "ind_of_negative = np.argwhere(pred_10_test==0)[0,0] "
   ]
  },
  {
   "cell_type": "code",
   "execution_count": 27,
   "metadata": {
    "id": "JMledcX50T5s"
   },
   "outputs": [],
   "source": [
    "positive_img, negative_img = test_images[ind_of_positive], test_images[ind_of_negative]"
   ]
  },
  {
   "cell_type": "markdown",
   "metadata": {
    "id": "uodPPdOy2H7l"
   },
   "source": [
    "positive"
   ]
  },
  {
   "cell_type": "code",
   "execution_count": 28,
   "metadata": {
    "colab": {
     "base_uri": "https://localhost:8080/",
     "height": 406
    },
    "id": "HOepWOKS1OED",
    "outputId": "c65ad915-0e1c-4336-a24d-d8f24acfa147"
   },
   "outputs": [
    {
     "data": {
      "image/png": "[encoded data removed]",
      "text/plain": [
       "<Figure size 640x480 with 1 Axes>"
      ]
     },
     "metadata": {},
     "output_type": "display_data"
    }
   ],
   "source": [
    "plt.imshow(positive_img, cmap='Greys_r')\n",
    "name = f'positive_img.pdf'\n",
    "plt.axis('off')\n",
    "# plt.savefig(name, transparent=True, bbox_inches='tight', pad_inches=0)\n",
    "plt.show()"
   ]
  },
  {
   "cell_type": "markdown",
   "metadata": {
    "id": "BcyAlJoL2LRM"
   },
   "source": [
    "negative"
   ]
  },
  {
   "cell_type": "code",
   "execution_count": 29,
   "metadata": {
    "colab": {
     "base_uri": "https://localhost:8080/",
     "height": 406
    },
    "id": "T7x09Sti2MDj",
    "outputId": "e4e2c496-bfb8-4193-9260-1ec749dd7fd0"
   },
   "outputs": [
    {
     "data": {
      "image/png": "[encoded data removed]",
      "text/plain": [
       "<Figure size 640x480 with 1 Axes>"
      ]
     },
     "metadata": {},
     "output_type": "display_data"
    }
   ],
   "source": [
    "plt.imshow(negative_img, cmap='Greys_r')\n",
    "name = f'negative_img.pdf'\n",
    "plt.axis('off')\n",
    "# plt.savefig(name, transparent=True, bbox_inches='tight', pad_inches=0) #'out.svg'\n",
    "plt.show()"
   ]
  },
  {
   "cell_type": "markdown",
   "metadata": {},
   "source": [
    "## Explain positive and negative examples:"
   ]
  },
  {
   "cell_type": "markdown",
   "metadata": {},
   "source": [
    "positive"
   ]
  },
  {
   "cell_type": "code",
   "execution_count": 32,
   "metadata": {
    "colab": {
     "base_uri": "https://localhost:8080/",
     "height": 277
    },
    "id": "C0jCvXG0fK2f",
    "outputId": "377e8886-e183-4ea4-a483-375041d71056"
   },
   "outputs": [
    {
     "data": {
      "image/png": "[encoded data removed]",
      "text/plain": [
       "<Figure size 800x450 with 1 Axes>"
      ]
     },
     "metadata": {},
     "output_type": "display_data"
    }
   ],
   "source": [
    "explanation_object_pos = Explanation(values=shap_values_proposed_method[0][ind_of_positive],\n",
    "                        base_values=explainer.expected_value,\n",
    "                        data = transformation(img_to_explain)[ind_of_positive],\n",
    "                        feature_names = latent_feature_names)\n",
    "f = plt.gcf()\n",
    "shap.plots.bar(explanation_object_pos, show=False)\n"
   ]
  },
  {
   "cell_type": "code",
   "execution_count": 33,
   "metadata": {
    "colab": {
     "background_save": true
    },
    "id": "ZNOKEMoeVbB8",
    "outputId": "f036bd47-3653-47f4-ded1-a1e880f04c63"
   },
   "outputs": [],
   "source": [
    "# name = f'local eplanation ind_of_positive force.pdf'\n",
    "# # name = 'local explanation for first sample with all 39 features (bg size 150) knn'\n",
    "# f.savefig(name, transparent=True, bbox_inches='tight', pad_inches=0) #'out.svg'"
   ]
  },
  {
   "cell_type": "markdown",
   "metadata": {},
   "source": [
    "negativ"
   ]
  },
  {
   "cell_type": "code",
   "execution_count": 30,
   "metadata": {
    "colab": {
     "base_uri": "https://localhost:8080/",
     "height": 431
    },
    "id": "5FnBSQjfT4_6",
    "outputId": "18e73f3f-75d6-49d7-88d8-8f942730bd36"
   },
   "outputs": [
    {
     "data": {
      "image/png": "[encoded data removed]",
      "text/plain": [
       "<Figure size 800x450 with 1 Axes>"
      ]
     },
     "metadata": {},
     "output_type": "display_data"
    }
   ],
   "source": [
    "import shap\n",
    "from shap._explanation import Explanation\n",
    "\n",
    "explanation_object = Explanation(values=shap_values_proposed_method[0][ind_of_negative],\n",
    "                        base_values=explainer.expected_value,\n",
    "                        data = transformation(img_to_explain)[ind_of_negative],\n",
    "                        feature_names = latent_feature_names)\n",
    "fig = shap.plots.bar(explanation_object, show=False)\n",
    "\n",
    "plt.show()"
   ]
  },
  {
   "cell_type": "code",
   "execution_count": 31,
   "metadata": {
    "colab": {
     "background_save": true
    },
    "id": "s9UscdsLVoP7"
   },
   "outputs": [],
   "source": [
    "# name = f'local eplanation ind_of_negative force.pdf'\n",
    "# # name = 'local explanation for first sample with all 39 features (bg size 150) knn'\n",
    "# fig.savefig(name, transparent=True, bbox_inches='tight', pad_inches=0) #'out.svg'"
   ]
  }
 ],
 "metadata": {
  "colab": {
   "provenance": [],
   "toc_visible": true
  },
  "kernelspec": {
   "display_name": "Python 3 (ipykernel)",
   "language": "python",
   "name": "python3"
  },
  "language_info": {
   "codemirror_mode": {
    "name": "ipython",
    "version": 3
   },
   "file_extension": ".py",
   "mimetype": "text/x-python",
   "name": "python",
   "nbconvert_exporter": "python",
   "pygments_lexer": "ipython3",
   "version": "3.10.9"
  },
  "widgets": {
   "application/vnd.jupyter.widget-state+json": {
    "0e18297a50d84e748881ffd7f01d5256": {
     "model_module": "@jupyter-widgets/base",
     "model_module_version": "1.2.0",
     "model_name": "LayoutModel",
     "state": {
      "_model_module": "@jupyter-widgets/base",
      "_model_module_version": "1.2.0",
      "_model_name": "LayoutModel",
      "_view_count": null,
      "_view_module": "@jupyter-widgets/base",
      "_view_module_version": "1.2.0",
      "_view_name": "LayoutView",
      "align_content": null,
      "align_items": null,
      "align_self": null,
      "border": null,
      "bottom": null,
      "display": null,
      "flex": null,
      "flex_flow": null,
      "grid_area": null,
      "grid_auto_columns": null,
      "grid_auto_flow": null,
      "grid_auto_rows": null,
      "grid_column": null,
      "grid_gap": null,
      "grid_row": null,
      "grid_template_areas": null,
      "grid_template_columns": null,
      "grid_template_rows": null,
      "height": null,
      "justify_content": null,
      "justify_items": null,
      "left": null,
      "margin": null,
      "max_height": null,
      "max_width": null,
      "min_height": null,
      "min_width": null,
      "object_fit": null,
      "object_position": null,
      "order": null,
      "overflow": null,
      "overflow_x": null,
      "overflow_y": null,
      "padding": null,
      "right": null,
      "top": null,
      "visibility": null,
      "width": null
     }
    },
    "28684a2f0a8d4f8193628a822d2c01e9": {
     "model_module": "@jupyter-widgets/controls",
     "model_module_version": "1.5.0",
     "model_name": "DescriptionStyleModel",
     "state": {
      "_model_module": "@jupyter-widgets/controls",
      "_model_module_version": "1.5.0",
      "_model_name": "DescriptionStyleModel",
      "_view_count": null,
      "_view_module": "@jupyter-widgets/base",
      "_view_module_version": "1.2.0",
      "_view_name": "StyleView",
      "description_width": ""
     }
    },
    "2ef7874c0bda4ebc8560c45aa55fff6e": {
     "model_module": "@jupyter-widgets/controls",
     "model_module_version": "1.5.0",
     "model_name": "ProgressStyleModel",
     "state": {
      "_model_module": "@jupyter-widgets/controls",
      "_model_module_version": "1.5.0",
      "_model_name": "ProgressStyleModel",
      "_view_count": null,
      "_view_module": "@jupyter-widgets/base",
      "_view_module_version": "1.2.0",
      "_view_name": "StyleView",
      "bar_color": null,
      "description_width": ""
     }
    },
    "367f7331564b49918d877a0f9dccf483": {
     "model_module": "@jupyter-widgets/controls",
     "model_module_version": "1.5.0",
     "model_name": "HTMLModel",
     "state": {
      "_dom_classes": [],
      "_model_module": "@jupyter-widgets/controls",
      "_model_module_version": "1.5.0",
      "_model_name": "HTMLModel",
      "_view_count": null,
      "_view_module": "@jupyter-widgets/controls",
      "_view_module_version": "1.5.0",
      "_view_name": "HTMLView",
      "description": "",
      "description_tooltip": null,
      "layout": "IPY_MODEL_6f482bec248f43579c51eeee0f295229",
      "placeholder": "​",
      "style": "IPY_MODEL_3a16cd8b7768484ca62b2e20151c3596",
      "value": "100%"
     }
    },
    "3897ec8eef284402a3df216a67f804e6": {
     "model_module": "@jupyter-widgets/controls",
     "model_module_version": "1.5.0",
     "model_name": "HTMLModel",
     "state": {
      "_dom_classes": [],
      "_model_module": "@jupyter-widgets/controls",
      "_model_module_version": "1.5.0",
      "_model_name": "HTMLModel",
      "_view_count": null,
      "_view_module": "@jupyter-widgets/controls",
      "_view_module_version": "1.5.0",
      "_view_name": "HTMLView",
      "description": "",
      "description_tooltip": null,
      "layout": "IPY_MODEL_987056d254c042b384b3ed245798808c",
      "placeholder": "​",
      "style": "IPY_MODEL_28684a2f0a8d4f8193628a822d2c01e9",
      "value": " 7373/7373 [31:38&lt;00:00,  2.50it/s]"
     }
    },
    "3a16cd8b7768484ca62b2e20151c3596": {
     "model_module": "@jupyter-widgets/controls",
     "model_module_version": "1.5.0",
     "model_name": "DescriptionStyleModel",
     "state": {
      "_model_module": "@jupyter-widgets/controls",
      "_model_module_version": "1.5.0",
      "_model_name": "DescriptionStyleModel",
      "_view_count": null,
      "_view_module": "@jupyter-widgets/base",
      "_view_module_version": "1.2.0",
      "_view_name": "StyleView",
      "description_width": ""
     }
    },
    "54177b7283fe46f7a3ccfe71c2491192": {
     "model_module": "@jupyter-widgets/controls",
     "model_module_version": "1.5.0",
     "model_name": "FloatProgressModel",
     "state": {
      "_dom_classes": [],
      "_model_module": "@jupyter-widgets/controls",
      "_model_module_version": "1.5.0",
      "_model_name": "FloatProgressModel",
      "_view_count": null,
      "_view_module": "@jupyter-widgets/controls",
      "_view_module_version": "1.5.0",
      "_view_name": "ProgressView",
      "bar_style": "success",
      "description": "",
      "description_tooltip": null,
      "layout": "IPY_MODEL_0e18297a50d84e748881ffd7f01d5256",
      "max": 7373,
      "min": 0,
      "orientation": "horizontal",
      "style": "IPY_MODEL_2ef7874c0bda4ebc8560c45aa55fff6e",
      "value": 7373
     }
    },
    "5478b38c30fc4edcbc31a414861f2073": {
     "model_module": "@jupyter-widgets/controls",
     "model_module_version": "1.5.0",
     "model_name": "HBoxModel",
     "state": {
      "_dom_classes": [],
      "_model_module": "@jupyter-widgets/controls",
      "_model_module_version": "1.5.0",
      "_model_name": "HBoxModel",
      "_view_count": null,
      "_view_module": "@jupyter-widgets/controls",
      "_view_module_version": "1.5.0",
      "_view_name": "HBoxView",
      "box_style": "",
      "children": [
       "IPY_MODEL_367f7331564b49918d877a0f9dccf483",
       "IPY_MODEL_54177b7283fe46f7a3ccfe71c2491192",
       "IPY_MODEL_3897ec8eef284402a3df216a67f804e6"
      ],
      "layout": "IPY_MODEL_604ba04c62094c30910521fbc0cb9bc7"
     }
    },
    "604ba04c62094c30910521fbc0cb9bc7": {
     "model_module": "@jupyter-widgets/base",
     "model_module_version": "1.2.0",
     "model_name": "LayoutModel",
     "state": {
      "_model_module": "@jupyter-widgets/base",
      "_model_module_version": "1.2.0",
      "_model_name": "LayoutModel",
      "_view_count": null,
      "_view_module": "@jupyter-widgets/base",
      "_view_module_version": "1.2.0",
      "_view_name": "LayoutView",
      "align_content": null,
      "align_items": null,
      "align_self": null,
      "border": null,
      "bottom": null,
      "display": null,
      "flex": null,
      "flex_flow": null,
      "grid_area": null,
      "grid_auto_columns": null,
      "grid_auto_flow": null,
      "grid_auto_rows": null,
      "grid_column": null,
      "grid_gap": null,
      "grid_row": null,
      "grid_template_areas": null,
      "grid_template_columns": null,
      "grid_template_rows": null,
      "height": null,
      "justify_content": null,
      "justify_items": null,
      "left": null,
      "margin": null,
      "max_height": null,
      "max_width": null,
      "min_height": null,
      "min_width": null,
      "object_fit": null,
      "object_position": null,
      "order": null,
      "overflow": null,
      "overflow_x": null,
      "overflow_y": null,
      "padding": null,
      "right": null,
      "top": null,
      "visibility": null,
      "width": null
     }
    },
    "6f482bec248f43579c51eeee0f295229": {
     "model_module": "@jupyter-widgets/base",
     "model_module_version": "1.2.0",
     "model_name": "LayoutModel",
     "state": {
      "_model_module": "@jupyter-widgets/base",
      "_model_module_version": "1.2.0",
      "_model_name": "LayoutModel",
      "_view_count": null,
      "_view_module": "@jupyter-widgets/base",
      "_view_module_version": "1.2.0",
      "_view_name": "LayoutView",
      "align_content": null,
      "align_items": null,
      "align_self": null,
      "border": null,
      "bottom": null,
      "display": null,
      "flex": null,
      "flex_flow": null,
      "grid_area": null,
      "grid_auto_columns": null,
      "grid_auto_flow": null,
      "grid_auto_rows": null,
      "grid_column": null,
      "grid_gap": null,
      "grid_row": null,
      "grid_template_areas": null,
      "grid_template_columns": null,
      "grid_template_rows": null,
      "height": null,
      "justify_content": null,
      "justify_items": null,
      "left": null,
      "margin": null,
      "max_height": null,
      "max_width": null,
      "min_height": null,
      "min_width": null,
      "object_fit": null,
      "object_position": null,
      "order": null,
      "overflow": null,
      "overflow_x": null,
      "overflow_y": null,
      "padding": null,
      "right": null,
      "top": null,
      "visibility": null,
      "width": null
     }
    },
    "987056d254c042b384b3ed245798808c": {
     "model_module": "@jupyter-widgets/base",
     "model_module_version": "1.2.0",
     "model_name": "LayoutModel",
     "state": {
      "_model_module": "@jupyter-widgets/base",
      "_model_module_version": "1.2.0",
      "_model_name": "LayoutModel",
      "_view_count": null,
      "_view_module": "@jupyter-widgets/base",
      "_view_module_version": "1.2.0",
      "_view_name": "LayoutView",
      "align_content": null,
      "align_items": null,
      "align_self": null,
      "border": null,
      "bottom": null,
      "display": null,
      "flex": null,
      "flex_flow": null,
      "grid_area": null,
      "grid_auto_columns": null,
      "grid_auto_flow": null,
      "grid_auto_rows": null,
      "grid_column": null,
      "grid_gap": null,
      "grid_row": null,
      "grid_template_areas": null,
      "grid_template_columns": null,
      "grid_template_rows": null,
      "height": null,
      "justify_content": null,
      "justify_items": null,
      "left": null,
      "margin": null,
      "max_height": null,
      "max_width": null,
      "min_height": null,
      "min_width": null,
      "object_fit": null,
      "object_position": null,
      "order": null,
      "overflow": null,
      "overflow_x": null,
      "overflow_y": null,
      "padding": null,
      "right": null,
      "top": null,
      "visibility": null,
      "width": null
     }
    }
   }
  }
 },
 "nbformat": 4,
 "nbformat_minor": 1
}
